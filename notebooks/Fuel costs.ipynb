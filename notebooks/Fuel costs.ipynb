{
 "cells": [
  {
   "cell_type": "markdown",
   "metadata": {},
   "source": [
    "# Fuel costs\n",
    "PowerGenome uses fuel costs from EIA's Annual Energy Outlook scenarios. Model regions must be mapped to AEO fuel regions in the settings file. Users can then specify AEO scenarios for each fuel type. In addition to the parameters for generators, you should include these parameters in the settings:\n",
    "\n",
    "- `eia_series_region_names` (map readable names to the codes for each Census division used in EIA open data)\n",
    "- `aeo_fuel_region_map` (map model regions to Census division names from `eia_series_region_names`)\n",
    "- `eia_series_fuel_names` (map readable names to the fuel codes used in EIA open data)\n",
    "- `eia_aeo_year`\n",
    "- `eia_series_scenario_names` (map readable names to the scenario codes used in EIA open data)\n",
    "- `aeo_fuel_scenarios` (the AEO scenario used for each fuel type)\n",
    "- `aeo_usd_year`\n",
    "- `tech_fuel_maps` (the fuel name from `eia_series_fuel_names` used for each EIA technology - EIA to ATB technologies are mapped in `eia_atb_tech_map`)\n",
    "- `ccs_fuel_map` (the name of fuels for CCS technologies)\n",
    "- `ccs_capture_rate` (how much CO₂ from each fuel in `ccs_fuel_map` is captured)\n",
    "- `ccs_disposal_cost`\n",
    "- `carbon_tax` (optional)\n",
    "- `fuel_emission_factors`"
   ]
  },
  {
   "cell_type": "code",
   "execution_count": 1,
   "metadata": {},
   "outputs": [],
   "source": [
    "%load_ext autoreload\n",
    "%autoreload 2"
   ]
  },
  {
   "cell_type": "code",
   "execution_count": 2,
   "metadata": {},
   "outputs": [],
   "source": [
    "import warnings\n",
    "\n",
    "warnings.simplefilter(\"ignore\")"
   ]
  },
  {
   "cell_type": "code",
   "execution_count": 3,
   "metadata": {},
   "outputs": [],
   "source": [
    "from pathlib import Path\n",
    "\n",
    "import pandas as pd\n",
    "from powergenome.fuels import fuel_cost_table\n",
    "from powergenome.generators import GeneratorClusters\n",
    "from powergenome.util import (\n",
    "    build_scenario_settings,\n",
    "    init_pudl_connection,\n",
    "    load_settings,\n",
    ")"
   ]
  },
  {
   "cell_type": "markdown",
   "metadata": {},
   "source": [
    "## Import settings\n",
    "This assumes that the settings file is set up for multiple scenarios/planning periods. If you are using a settings file with only a single scenario/planning period, remove or comment out the line with `build_scenario_settings`."
   ]
  },
  {
   "cell_type": "code",
   "execution_count": 4,
   "metadata": {},
   "outputs": [],
   "source": [
    "pudl_engine, pudl_out = init_pudl_connection()\n",
    "cwd = Path.cwd()\n",
    "\n",
    "settings_path = (\n",
    "    cwd.parent / \"example_system\" / \"test_settings.yml\"\n",
    ")\n",
    "settings = load_settings(settings_path)\n",
    "settings[\"input_folder\"] = settings_path.parent / settings[\"input_folder\"]\n",
    "scenario_definitions = pd.read_csv(\n",
    "    settings[\"input_folder\"] / settings[\"scenario_definitions_fn\"]\n",
    ")\n",
    "scenario_settings = build_scenario_settings(settings, scenario_definitions)"
   ]
  },
  {
   "cell_type": "markdown",
   "metadata": {},
   "source": [
    "## Create dataframe of generators (existing and new)\n",
    "The dataframe will have a column `Fuel` that describes the fuel used by a resource in the format `<REGION>_<SCENARIO>_<FUEL>`."
   ]
  },
  {
   "cell_type": "code",
   "execution_count": 5,
   "metadata": {},
   "outputs": [
    {
     "name": "stdout",
     "output_type": "stream",
     "text": [
      "961.5000000000002  MW without lat/lon\n",
      "Creating gdf\n",
      "['Solar Photovoltaic', 'Onshore Wind Turbine', 'Batteries', 'Biomass', 'Conventional Hydroelectric', 'Natural Gas Fired Combined Cycle', 'Other_peaker', 'All Other', 'Natural Gas Fired Combustion Turbine', 'Other Natural Gas']\n"
     ]
    },
    {
     "name": "stderr",
     "output_type": "stream",
     "text": [
      "No model tag values found for DR ('NoneType' object has no attribute 'items')\n",
      "Selected technology landbasedwind capacity in region CA_N less than minimum (8424.4314 < 25000 MW)\n",
      "Selected technology landbasedwind capacity in region CA_S less than minimum (23639.682500000003 < 45000 MW)\n",
      "No model tag values found for DR ('NoneType' object has no attribute 'items')\n",
      "Transmission investment costs are missing or zero for some resources and will not be included in the total investment costs.\n"
     ]
    }
   ],
   "source": [
    "gc = GeneratorClusters(pudl_engine, pudl_out, scenario_settings[2030][\"p1\"])\n",
    "gen_clusters = gc.create_all_generators()"
   ]
  },
  {
   "cell_type": "code",
   "execution_count": 6,
   "metadata": {},
   "outputs": [
    {
     "data": {
      "text/html": [
       "<div>\n",
       "<style scoped>\n",
       "    .dataframe tbody tr th:only-of-type {\n",
       "        vertical-align: middle;\n",
       "    }\n",
       "\n",
       "    .dataframe tbody tr th {\n",
       "        vertical-align: top;\n",
       "    }\n",
       "\n",
       "    .dataframe thead th {\n",
       "        text-align: right;\n",
       "    }\n",
       "</style>\n",
       "<table border=\"1\" class=\"dataframe\">\n",
       "  <thead>\n",
       "    <tr style=\"text-align: right;\">\n",
       "      <th></th>\n",
       "      <th>region</th>\n",
       "      <th>Resource</th>\n",
       "      <th>Fuel</th>\n",
       "    </tr>\n",
       "  </thead>\n",
       "  <tbody>\n",
       "    <tr>\n",
       "      <th>0</th>\n",
       "      <td>CA_N</td>\n",
       "      <td>biomass</td>\n",
       "      <td>None</td>\n",
       "    </tr>\n",
       "    <tr>\n",
       "      <th>1</th>\n",
       "      <td>CA_N</td>\n",
       "      <td>conventional_hydroelectric</td>\n",
       "      <td>None</td>\n",
       "    </tr>\n",
       "    <tr>\n",
       "      <th>2</th>\n",
       "      <td>CA_N</td>\n",
       "      <td>geothermal</td>\n",
       "      <td>None</td>\n",
       "    </tr>\n",
       "    <tr>\n",
       "      <th>3</th>\n",
       "      <td>CA_N</td>\n",
       "      <td>hydroelectric_pumped_storage</td>\n",
       "      <td>None</td>\n",
       "    </tr>\n",
       "    <tr>\n",
       "      <th>4</th>\n",
       "      <td>CA_N</td>\n",
       "      <td>natural_gas_fired_combined_cycle</td>\n",
       "      <td>pacific_reference_naturalgas</td>\n",
       "    </tr>\n",
       "    <tr>\n",
       "      <th>...</th>\n",
       "      <td>...</td>\n",
       "      <td>...</td>\n",
       "      <td>...</td>\n",
       "    </tr>\n",
       "    <tr>\n",
       "      <th>56</th>\n",
       "      <td>WECC_AZ</td>\n",
       "      <td>battery_mid</td>\n",
       "      <td>None</td>\n",
       "    </tr>\n",
       "    <tr>\n",
       "      <th>57</th>\n",
       "      <td>WECC_AZ</td>\n",
       "      <td>nuclear_mid</td>\n",
       "      <td>mountain_reference_uranium</td>\n",
       "    </tr>\n",
       "    <tr>\n",
       "      <th>58</th>\n",
       "      <td>WECC_AZ</td>\n",
       "      <td>naturalgas_ccs100_mid</td>\n",
       "      <td>mountain_reference_naturalgas_ccs100</td>\n",
       "    </tr>\n",
       "    <tr>\n",
       "      <th>59</th>\n",
       "      <td>CA_N</td>\n",
       "      <td>ev_load_shifting</td>\n",
       "      <td>None</td>\n",
       "    </tr>\n",
       "    <tr>\n",
       "      <th>60</th>\n",
       "      <td>CA_S</td>\n",
       "      <td>ev_load_shifting</td>\n",
       "      <td>None</td>\n",
       "    </tr>\n",
       "  </tbody>\n",
       "</table>\n",
       "<p>61 rows × 3 columns</p>\n",
       "</div>"
      ],
      "text/plain": [
       "     region                          Resource  \\\n",
       "0      CA_N                           biomass   \n",
       "1      CA_N        conventional_hydroelectric   \n",
       "2      CA_N                        geothermal   \n",
       "3      CA_N      hydroelectric_pumped_storage   \n",
       "4      CA_N  natural_gas_fired_combined_cycle   \n",
       "..      ...                               ...   \n",
       "56  WECC_AZ                       battery_mid   \n",
       "57  WECC_AZ                       nuclear_mid   \n",
       "58  WECC_AZ             naturalgas_ccs100_mid   \n",
       "59     CA_N                  ev_load_shifting   \n",
       "60     CA_S                  ev_load_shifting   \n",
       "\n",
       "                                    Fuel  \n",
       "0                                   None  \n",
       "1                                   None  \n",
       "2                                   None  \n",
       "3                                   None  \n",
       "4           pacific_reference_naturalgas  \n",
       "..                                   ...  \n",
       "56                                  None  \n",
       "57            mountain_reference_uranium  \n",
       "58  mountain_reference_naturalgas_ccs100  \n",
       "59                                  None  \n",
       "60                                  None  \n",
       "\n",
       "[61 rows x 3 columns]"
      ]
     },
     "execution_count": 6,
     "metadata": {},
     "output_type": "execute_result"
    }
   ],
   "source": [
    "gen_clusters[[\"region\", \"Resource\", \"Fuel\"]]"
   ]
  },
  {
   "cell_type": "markdown",
   "metadata": {},
   "source": [
    "## Build a fuel cost table\n",
    "This table gives the cost (in the specified model year and AEO scenario) and CO₂ content for every fuel that is used by a generating resource."
   ]
  },
  {
   "cell_type": "code",
   "execution_count": 7,
   "metadata": {},
   "outputs": [],
   "source": [
    "fuels = fuel_cost_table(gc.fuel_prices, generators=gen_clusters, settings=gc.settings)"
   ]
  },
  {
   "cell_type": "code",
   "execution_count": 8,
   "metadata": {},
   "outputs": [
    {
     "data": {
      "text/html": [
       "<div>\n",
       "<style scoped>\n",
       "    .dataframe tbody tr th:only-of-type {\n",
       "        vertical-align: middle;\n",
       "    }\n",
       "\n",
       "    .dataframe tbody tr th {\n",
       "        vertical-align: top;\n",
       "    }\n",
       "\n",
       "    .dataframe thead th {\n",
       "        text-align: right;\n",
       "    }\n",
       "</style>\n",
       "<table border=\"1\" class=\"dataframe\">\n",
       "  <thead>\n",
       "    <tr style=\"text-align: right;\">\n",
       "      <th></th>\n",
       "      <th>Fuel</th>\n",
       "      <th>Cost_per_MMBtu</th>\n",
       "      <th>CO2_content_tons_per_MMBtu</th>\n",
       "    </tr>\n",
       "  </thead>\n",
       "  <tbody>\n",
       "    <tr>\n",
       "      <th>0</th>\n",
       "      <td>None</td>\n",
       "      <td>0.00</td>\n",
       "      <td>0.00000</td>\n",
       "    </tr>\n",
       "    <tr>\n",
       "      <th>4</th>\n",
       "      <td>pacific_reference_naturalgas</td>\n",
       "      <td>3.58</td>\n",
       "      <td>0.05306</td>\n",
       "    </tr>\n",
       "    <tr>\n",
       "      <th>20</th>\n",
       "      <td>mountain_reference_coal</td>\n",
       "      <td>1.40</td>\n",
       "      <td>0.09552</td>\n",
       "    </tr>\n",
       "    <tr>\n",
       "      <th>22</th>\n",
       "      <td>mountain_reference_naturalgas</td>\n",
       "      <td>3.78</td>\n",
       "      <td>0.05306</td>\n",
       "    </tr>\n",
       "    <tr>\n",
       "      <th>24</th>\n",
       "      <td>mountain_reference_uranium</td>\n",
       "      <td>0.66</td>\n",
       "      <td>0.00000</td>\n",
       "    </tr>\n",
       "    <tr>\n",
       "      <th>27</th>\n",
       "      <td>pacific_reference_naturalgas_ccs90</td>\n",
       "      <td>4.06</td>\n",
       "      <td>0.00531</td>\n",
       "    </tr>\n",
       "    <tr>\n",
       "      <th>31</th>\n",
       "      <td>pacific_reference_uranium</td>\n",
       "      <td>0.66</td>\n",
       "      <td>0.00000</td>\n",
       "    </tr>\n",
       "    <tr>\n",
       "      <th>32</th>\n",
       "      <td>pacific_reference_naturalgas_ccs100</td>\n",
       "      <td>4.12</td>\n",
       "      <td>0.00000</td>\n",
       "    </tr>\n",
       "    <tr>\n",
       "      <th>53</th>\n",
       "      <td>mountain_reference_naturalgas_ccs90</td>\n",
       "      <td>4.25</td>\n",
       "      <td>0.00531</td>\n",
       "    </tr>\n",
       "    <tr>\n",
       "      <th>58</th>\n",
       "      <td>mountain_reference_naturalgas_ccs100</td>\n",
       "      <td>4.31</td>\n",
       "      <td>0.00000</td>\n",
       "    </tr>\n",
       "  </tbody>\n",
       "</table>\n",
       "</div>"
      ],
      "text/plain": [
       "                                    Fuel  Cost_per_MMBtu  \\\n",
       "0                                   None            0.00   \n",
       "4           pacific_reference_naturalgas            3.58   \n",
       "20               mountain_reference_coal            1.40   \n",
       "22         mountain_reference_naturalgas            3.78   \n",
       "24            mountain_reference_uranium            0.66   \n",
       "27    pacific_reference_naturalgas_ccs90            4.06   \n",
       "31             pacific_reference_uranium            0.66   \n",
       "32   pacific_reference_naturalgas_ccs100            4.12   \n",
       "53   mountain_reference_naturalgas_ccs90            4.25   \n",
       "58  mountain_reference_naturalgas_ccs100            4.31   \n",
       "\n",
       "    CO2_content_tons_per_MMBtu  \n",
       "0                      0.00000  \n",
       "4                      0.05306  \n",
       "20                     0.09552  \n",
       "22                     0.05306  \n",
       "24                     0.00000  \n",
       "27                     0.00531  \n",
       "31                     0.00000  \n",
       "32                     0.00000  \n",
       "53                     0.00531  \n",
       "58                     0.00000  "
      ]
     },
     "execution_count": 8,
     "metadata": {},
     "output_type": "execute_result"
    }
   ],
   "source": [
    "fuels"
   ]
  },
  {
   "cell_type": "code",
   "execution_count": null,
   "metadata": {},
   "outputs": [],
   "source": []
  }
 ],
 "metadata": {
  "kernelspec": {
   "display_name": "Python [conda env:powergenome] *",
   "language": "python",
   "name": "conda-env-powergenome-py"
  },
  "language_info": {
   "codemirror_mode": {
    "name": "ipython",
    "version": 3
   },
   "file_extension": ".py",
   "mimetype": "text/x-python",
   "name": "python",
   "nbconvert_exporter": "python",
   "pygments_lexer": "ipython3",
   "version": "3.7.8"
  }
 },
 "nbformat": 4,
 "nbformat_minor": 4
}
